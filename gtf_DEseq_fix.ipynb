{
 "cells": [
  {
   "cell_type": "code",
   "execution_count": 1,
   "metadata": {
    "collapsed": false
   },
   "outputs": [
    {
     "name": "stdout",
     "output_type": "stream",
     "text": [
      "['FBtr0281165', 'FBtr0286925', 'FBtr0289778', 'FBtr0366485', 'FBtr0367222', 'FBtr0368460', 'FBtr0370475', 'FBtr0372859', 'FBtr0374162', 'FBtr0376787']\n"
     ]
    },
    {
     "data": {
      "text/plain": [
       "10"
      ]
     },
     "execution_count": 1,
     "metadata": {},
     "output_type": "execute_result"
    }
   ],
   "source": [
    "bad_genes = [\"FBtr0281165\", \"FBtr0286925\", \"FBtr0289778\", \"FBtr0366485\", \"FBtr0367222\", \"FBtr0368460\", \n",
    "             \"FBtr0370475\", \"FBtr0372859\", \"FBtr0374162\", \"FBtr0376787\"]\n",
    "print(bad_genes)\n",
    "len(bad_genes)"
   ]
  },
  {
   "cell_type": "code",
   "execution_count": 2,
   "metadata": {
    "collapsed": false
   },
   "outputs": [
    {
     "name": "stdout",
     "output_type": "stream",
     "text": [
      "FBtr0281165\n",
      "FBtr0286925\n",
      "FBtr0289778\n",
      "FBtr0366485\n",
      "FBtr0367222\n",
      "FBtr0368460\n",
      "FBtr0370475\n",
      "FBtr0372859\n",
      "FBtr0374162\n",
      "FBtr0376787\n"
     ]
    }
   ],
   "source": [
    "for x in bad_genes:\n",
    "    print(x)"
   ]
  },
  {
   "cell_type": "code",
   "execution_count": 3,
   "metadata": {
    "collapsed": false,
    "scrolled": true
   },
   "outputs": [
    {
     "name": "stdout",
     "output_type": "stream",
     "text": [
      "['Unknown_singleton_1822\\tFlyBase\\tgene\\t533\\t6524\\t.\\t+\\t.\\tgene_id \"FBgn0080937\"; gene_symbol \"Dpse\\\\GA20948\";', 'Unknown_singleton_1822\\tFlyBase\\tmRNA\\t533\\t6524\\t.\\t+\\t.\\tgene_id \"FBgn0080937\"; gene_symbol \"Dpse\\\\GA20948\"; transcript_id \"FBtr0287507\"; transcript_symbol \"Dpse\\\\GA20948-RA\";', 'Unknown_singleton_1822\\tFlyBase\\t5UTR\\t533\\t659\\t.\\t+\\t.\\tgene_id \"FBgn0080937\"; gene_symbol \"Dpse\\\\GA20948\"; transcript_id \"FBtr0287507\"; transcript_symbol \"Dpse\\\\GA20948-RA\";', 'Unknown_singleton_1822\\tFlyBase\\texon\\t533\\t1489\\t.\\t+\\t.\\tgene_id \"FBgn0080937\"; gene_symbol \"Dpse\\\\GA20948\"; transcript_id \"FBtr0287507\"; transcript_symbol \"Dpse\\\\GA20948-RA\";', 'Unknown_singleton_1822\\tFlyBase\\texon\\t2367\\t3816\\t.\\t+\\t.\\tgene_id \"FBgn0080937\"; gene_symbol \"Dpse\\\\GA20948\"; transcript_id \"FBtr0287507\"; transcript_symbol \"Dpse\\\\GA20948-RA\";']\n"
     ]
    }
   ],
   "source": [
    "gtf = open(\"dpse-all-r3.04.gtf\", \"r\")\n",
    "data = gtf.read()\n",
    "rows = data.split('\\n')\n",
    "print(rows[0:5])"
   ]
  },
  {
   "cell_type": "code",
   "execution_count": 13,
   "metadata": {
    "collapsed": false
   },
   "outputs": [
    {
     "name": "stdout",
     "output_type": "stream",
     "text": [
      "['Unknown_group_287', 'FlyBase', 'exon', '8967', '10409', '.', '+', '.', 'gene_id \"FBgn0246930\"; gene_symbol \"Dpse\\\\GA25552\"; transcript_id \"FBtr0281165\"; transcript_symbol \"Dpse\\\\GA25552-RA\";']\n",
      "['Unknown_group_635', 'FlyBase', 'exon', '177', '1365', '.', '+', '.', 'gene_id \"FBgn0249190\"; gene_symbol \"Dpse\\\\GA27826\"; transcript_id \"FBtr0286925\"; transcript_symbol \"Dpse\\\\GA27826-RA\";']\n",
      "['Unknown_group_668', 'FlyBase', 'exon', '12021', '12348', '.', '+', '.', 'gene_id \"FBgn0250607\"; gene_symbol \"Dpse\\\\GA29249\"; transcript_id \"FBtr0289778\"; transcript_symbol \"Dpse\\\\GA29249-RA\";']\n",
      "['Unknown_group_591', 'FlyBase', 'exon', '2808', '3488', '.', '+', '.', 'gene_id \"FBgn0271625\"; gene_symbol \"Dpse\\\\GA31218\"; transcript_id \"FBtr0368460\"; transcript_symbol \"Dpse\\\\GA31218-RA\";']\n",
      "['Unknown_singleton_3925', 'FlyBase', 'exon', '5', '913', '.', '+', '.', 'gene_id \"FBgn0271778\"; gene_symbol \"Dpse\\\\GA31371\"; transcript_id \"FBtr0367222\"; transcript_symbol \"Dpse\\\\GA31371-RA\";']\n",
      "['Unknown_singleton_2227', 'FlyBase', 'exon', '6', '458', '.', '+', '.', 'gene_id \"FBgn0271855\"; gene_symbol \"Dpse\\\\GA31448\"; transcript_id \"FBtr0370475\"; transcript_symbol \"Dpse\\\\GA31448-RA\";']\n",
      "['Unknown_singleton_1657', 'FlyBase', 'exon', '588', '1832', '.', '+', '.', 'gene_id \"FBgn0271856\"; gene_symbol \"Dpse\\\\GA31449\"; transcript_id \"FBtr0376787\"; transcript_symbol \"Dpse\\\\GA31449-RA\";']\n",
      "['Unknown_singleton_1932', 'FlyBase', 'exon', '5', '574', '.', '+', '.', 'gene_id \"FBgn0272117\"; gene_symbol \"Dpse\\\\GA31710\"; transcript_id \"FBtr0366485\"; transcript_symbol \"Dpse\\\\GA31710-RA\";']\n",
      "['Unknown_singleton_184', 'FlyBase', 'exon', '1198', '1654', '.', '+', '.', 'gene_id \"FBgn0272721\"; gene_symbol \"Dpse\\\\GA32314\"; transcript_id \"FBtr0374162\"; transcript_symbol \"Dpse\\\\GA32314-RA\";']\n",
      "['2', 'FlyBase', 'exon', '10479483', '10479602', '.', '+', '.', 'gene_id \"FBgn0272984\"; gene_symbol \"Dpse\\\\GA32577\"; transcript_id \"FBtr0372859\"; transcript_symbol \"Dpse\\\\GA32577-RA\";']\n"
     ]
    }
   ],
   "source": [
    "# are the all single exon genes?\n",
    "for row in rows:\n",
    "    values = row.split('\\t')\n",
    "    if len(values) != 9:\n",
    "        continue\n",
    "    for x in bad_genes:\n",
    "        if x in values[8] and values[2] == \"exon\" :\n",
    "            print(values)"
   ]
  },
  {
   "cell_type": "code",
   "execution_count": 10,
   "metadata": {
    "collapsed": false
   },
   "outputs": [
    {
     "name": "stdout",
     "output_type": "stream",
     "text": [
      "['Unknown_singleton_1822\\tFlyBase\\tgene\\t533\\t6524\\t.\\t+\\t.\\tgene_id \"FBgn0080937\"; gene_symbol \"Dpse\\\\GA20948\";', 'Unknown_singleton_1822\\tFlyBase\\tmRNA\\t533\\t6524\\t.\\t+\\t.\\tgene_id \"FBgn0080937\"; gene_symbol \"Dpse\\\\GA20948\"; transcript_id \"FBtr0287507\"; transcript_symbol \"Dpse\\\\GA20948-RA\";', 'Unknown_singleton_1822\\tFlyBase\\t5UTR\\t533\\t659\\t.\\t+\\t.\\tgene_id \"FBgn0080937\"; gene_symbol \"Dpse\\\\GA20948\"; transcript_id \"FBtr0287507\"; transcript_symbol \"Dpse\\\\GA20948-RA\";', 'Unknown_singleton_1822\\tFlyBase\\texon\\t533\\t1489\\t.\\t+\\t.\\tgene_id \"FBgn0080937\"; gene_symbol \"Dpse\\\\GA20948\"; transcript_id \"FBtr0287507\"; transcript_symbol \"Dpse\\\\GA20948-RA\";', 'Unknown_singleton_1822\\tFlyBase\\texon\\t2367\\t3816\\t.\\t+\\t.\\tgene_id \"FBgn0080937\"; gene_symbol \"Dpse\\\\GA20948\"; transcript_id \"FBtr0287507\"; transcript_symbol \"Dpse\\\\GA20948-RA\";']\n"
     ]
    }
   ],
   "source": [
    "look = []\n",
    "for row in rows:\n",
    "    values = row.split('\\t')\n",
    "    if len(values) != 9:\n",
    "        continue\n",
    "    for x in bad_genes:\n",
    "        if x in values[8] and (values[2] == \"exon\" or values[2] == \"mRNA\") :\n",
    "            values[4] = int(values[4]) +3 \n",
    "        else:\n",
    "            continue\n",
    "    look.append( ('\\t'.join(map(str,values))) )\n",
    "len(look)\n",
    "print(look[0:5])"
   ]
  },
  {
   "cell_type": "code",
   "execution_count": 11,
   "metadata": {
    "collapsed": false
   },
   "outputs": [],
   "source": [
    "with open('dpse-all-r3.04_KTedits.gtf','w') as results:\n",
    "    for row in look:\n",
    "        results.write( '%s\\n' % str(row) )"
   ]
  },
  {
   "cell_type": "code",
   "execution_count": null,
   "metadata": {
    "collapsed": true
   },
   "outputs": [],
   "source": [
    ""
   ]
  },
  {
   "cell_type": "code",
   "execution_count": null,
   "metadata": {
    "collapsed": true
   },
   "outputs": [],
   "source": [
    ""
   ]
  },
  {
   "cell_type": "code",
   "execution_count": null,
   "metadata": {
    "collapsed": true
   },
   "outputs": [],
   "source": [
    ""
   ]
  }
 ],
 "metadata": {
  "kernelspec": {
   "display_name": "Python [python3]",
   "language": "python",
   "name": "Python [python3]"
  },
  "language_info": {
   "codemirror_mode": {
    "name": "ipython",
    "version": 3.0
   },
   "file_extension": ".py",
   "mimetype": "text/x-python",
   "name": "python",
   "nbconvert_exporter": "python",
   "pygments_lexer": "ipython3",
   "version": "3.6.0"
  }
 },
 "nbformat": 4,
 "nbformat_minor": 0
}